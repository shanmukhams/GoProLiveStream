{
  "nbformat": 4,
  "nbformat_minor": 0,
  "metadata": {
    "colab": {
      "name": "PythonProgramming.ipynb",
      "provenance": [],
      "collapsed_sections": [],
      "authorship_tag": "ABX9TyNtEimTvxAQ/CFX0wKUnOm2",
      "include_colab_link": true
    },
    "kernelspec": {
      "name": "python3",
      "display_name": "Python 3"
    }
  },
  "cells": [
    {
      "cell_type": "markdown",
      "metadata": {
        "id": "view-in-github",
        "colab_type": "text"
      },
      "source": [
        "<a href=\"https://colab.research.google.com/github/shanmukhams/GoProLiveStream/blob/master/PythonProgramming.ipynb\" target=\"_parent\"><img src=\"https://colab.research.google.com/assets/colab-badge.svg\" alt=\"Open In Colab\"/></a>"
      ]
    },
    {
      "cell_type": "markdown",
      "metadata": {
        "id": "P81eXIqPR8zx",
        "colab_type": "text"
      },
      "source": [
        "**Program to find the average of numbers in a list**"
      ]
    },
    {
      "cell_type": "code",
      "metadata": {
        "id": "LLYbAfvVSYij",
        "colab_type": "code",
        "colab": {}
      },
      "source": [
        "alist = []\n",
        "print(\"enter the numbers and when done type ok\")\n",
        "\n",
        "while(True):\n",
        "  try:\n",
        "    element = input()\n",
        "    alist.append(int(element))   \n",
        "  except Exception as e:\n",
        "    if(element == \"ok\"):\n",
        "      break\n",
        "    print(f\"something went wrong, may you have entered a string: Exception Type: {type(e).__name__} Error:{str(e)}\" )\n",
        "\n",
        "try:\n",
        "  avg = sum(alist)/len(alist) \n",
        "  print(\"Average of the number is: \"+ str(avg))\n",
        "except Exception as e:\n",
        "  print(f\"You may have not entered any elements. Exception Type: {type(e).__name__}. Error: {str(e)}\")\n",
        "finally:\n",
        "  print(\"End of the code!!\")\n",
        "\n",
        "\n",
        "\n"
      ],
      "execution_count": null,
      "outputs": []
    },
    {
      "cell_type": "markdown",
      "metadata": {
        "id": "LHatotE-eNWT",
        "colab_type": "text"
      },
      "source": [
        "**Program to reverse a number**"
      ]
    },
    {
      "cell_type": "code",
      "metadata": {
        "id": "7fPYEMNOes5f",
        "colab_type": "code",
        "colab": {
          "base_uri": "https://localhost:8080/",
          "height": 51
        },
        "outputId": "eb5fe55d-c3a1-4109-dc12-825567e17d80"
      },
      "source": [
        "n = int(input(\"Enter the number\"))\n",
        "rev = 0\n",
        "while(n>0):\n",
        "  digit = n%10\n",
        "  rev = rev*10 + digit\n",
        "  n = n//10\n",
        "\n",
        "print(\"Reverse of a number is: \",rev)"
      ],
      "execution_count": 20,
      "outputs": [
        {
          "output_type": "stream",
          "text": [
            "Enter the number123\n",
            "Reverse of a number is:  321\n"
          ],
          "name": "stdout"
        }
      ]
    },
    {
      "cell_type": "markdown",
      "metadata": {
        "id": "gkkqBPoogXt_",
        "colab_type": "text"
      },
      "source": [
        "**Program to find the sum of the digits of a number**"
      ]
    },
    {
      "cell_type": "code",
      "metadata": {
        "id": "Jic98b6Nga6h",
        "colab_type": "code",
        "colab": {}
      },
      "source": [
        "n = int(input(\"Enter the number\"))\n",
        "sum=0\n",
        "while(n>0):\n",
        "  digits = n%10\n",
        "  sum = sum + digits\n",
        "  n = n//10\n",
        "\n",
        "print(\"Sum: \", sum)"
      ],
      "execution_count": null,
      "outputs": []
    },
    {
      "cell_type": "markdown",
      "metadata": {
        "id": "o_CQjrjXh8-z",
        "colab_type": "text"
      },
      "source": [
        "**Python Program to check if a number is a prime number**"
      ]
    },
    {
      "cell_type": "code",
      "metadata": {
        "id": "pJiRV7Mnh-xz",
        "colab_type": "code",
        "colab": {}
      },
      "source": [
        "a=int(input(\"Enter number: \"))\n",
        "k=0\n",
        "for i in range(2,a//2+1):\n",
        "  if(a%i==0):\n",
        "    k=k+1\n",
        "if(k<=0):\n",
        "  print(\"Number is prime\")\n",
        "else:\n",
        "  print(\"Number isn't prime\")\n",
        "\n",
        "# Python program to print all \n",
        "# prime number in an interval\n",
        "#number should be greater than 1\n",
        "start = 11\n",
        "end = 25\n",
        " \n",
        "for i in range(start,end):\n",
        "  if i>1:\n",
        "    for j in range(2,i):\n",
        "        if(i % j==0):\n",
        "            break\n",
        "    else:\n",
        "        print(i)"
      ],
      "execution_count": null,
      "outputs": []
    },
    {
      "cell_type": "markdown",
      "metadata": {
        "id": "sdnFL0j_jYGx",
        "colab_type": "text"
      },
      "source": [
        "**Swapping the variable**\n",
        "\n",
        "https://docs.python.org/3/reference/expressions.html#evaluation-order\n",
        "\n",
        "That means the following for the expression a,b = b,a :\n",
        "\n",
        "\n",
        "\n",
        "*   The right-hand side b,a is evaluated, that is to say a tuple of two elements is created in the memory. The two element are the objects designated by the identifiers b and a, that were existing before the instruction is encoutered during an execution of program\n",
        "\n",
        "*   Just after the creation of this tuple, no assignement of this tuple object have still been made, but it doesn't matter, Python internally knows where it is\n",
        "\n",
        "*   Then, the left-hand side is evaluated, that is to say the tuple is assigned to the left-hand side\n",
        "\n",
        "*   As the left-hand side is composed of two identifiers, the tuple is unpacked in order that the first identifier a be assigned to the first element of the tuple (which is the object that was formely b before the swap because it had name b) and the second identifier b is assigned to the second element of the tuple (which is the object that was formerly a before the swap because its identifiers was a)"
      ]
    },
    {
      "cell_type": "markdown",
      "metadata": {
        "id": "hia-BGM0lWZ6",
        "colab_type": "text"
      },
      "source": [
        "**Program for Fibonacci numbers**\n",
        "\n",
        "The Fibonacci numbers are the numbers in the following integer sequence.\n",
        "0, 1, 1, 2, 3, 5, 8, 13, 21, 34, 55, 89, 144, ……..\n",
        "\n",
        "In mathematical terms, the sequence Fn of Fibonacci numbers is defined by the recurrence relation \n",
        " \n",
        "\n",
        "    Fn = Fn-1 + Fn-2\n",
        "with seed values \n",
        " \n",
        "\n",
        "   F0 = 0 and F1 = 1.\n",
        "\n",
        "\n",
        "*   Method 1 ( Use recursion ) \n",
        "\n",
        "*   Method 2 ( Use Dynamic Programming ) \n",
        "\n",
        "*   Method 3 ( Space Optimized )\n",
        "\n",
        "\n",
        "\n",
        "\n"
      ]
    },
    {
      "cell_type": "markdown",
      "metadata": {
        "id": "mWT7JjxHl5tS",
        "colab_type": "text"
      },
      "source": [
        "**Program for Fibonacci numbers - Using Recrusion**"
      ]
    },
    {
      "cell_type": "code",
      "metadata": {
        "id": "hXp26jtYnhaq",
        "colab_type": "code",
        "colab": {
          "base_uri": "https://localhost:8080/",
          "height": 34
        },
        "outputId": "aec9b517-8a97-420f-b573-d1dd573d5673"
      },
      "source": [
        "# Function for nth Fibonacci number\n",
        " \n",
        "def Fibonacci(n):\n",
        "    if n<=0:\n",
        "        print(\"Incorrect input\")\n",
        "    # First Fibonacci number is 0\n",
        "    elif n==1:\n",
        "        return 0\n",
        "    # Second Fibonacci number is 1\n",
        "    elif n==2:\n",
        "        return 1\n",
        "    else:\n",
        "        return Fibonacci(n-1)+Fibonacci(n-2)\n",
        " \n",
        "# Driver Program\n",
        " \n",
        "print(Fibonacci(3))"
      ],
      "execution_count": 30,
      "outputs": [
        {
          "output_type": "stream",
          "text": [
            "1\n"
          ],
          "name": "stdout"
        }
      ]
    },
    {
      "cell_type": "markdown",
      "metadata": {
        "id": "MBHTBSrGo6tI",
        "colab_type": "text"
      },
      "source": [
        "**Program for Fibonacci numbers - Dynamic Programming**"
      ]
    },
    {
      "cell_type": "code",
      "metadata": {
        "id": "3D4bNx9Bo5Yo",
        "colab_type": "code",
        "colab": {}
      },
      "source": [
        "# Function for nth fibonacci number - Dynamic Programing\n",
        "# Taking 1st two fibonacci nubers as 0 and 1\n",
        " \n",
        "FibArray = [0,1]\n",
        " \n",
        "def fibonacci(n):\n",
        "    if n<=0:\n",
        "        print(\"Incorrect input\")\n",
        "    elif n<=len(FibArray):\n",
        "        return FibArray[n-1]\n",
        "    else:\n",
        "        temp_fib = fibonacci(n-1)+fibonacci(n-2)\n",
        "        FibArray.append(temp_fib)\n",
        "        return temp_fib\n",
        " \n",
        "# Driver Program\n",
        " \n",
        "print(fibonacci(9))"
      ],
      "execution_count": null,
      "outputs": []
    },
    {
      "cell_type": "markdown",
      "metadata": {
        "id": "SiNl3bo7pEfA",
        "colab_type": "text"
      },
      "source": [
        "**Program for Fibonacci numbers - Space Optimization**"
      ]
    },
    {
      "cell_type": "code",
      "metadata": {
        "id": "fXAGnulxpM9L",
        "colab_type": "code",
        "colab": {}
      },
      "source": [
        "def fibonacci(n):\n",
        "    a = 0\n",
        "    b = 1\n",
        "    if n <= 0:\n",
        "        print(\"Incorrect input\")\n",
        "    elif n == 1:\n",
        "        return b\n",
        "    else:\n",
        "        for i in range(2,n):\n",
        "            c = a + b\n",
        "            a = b\n",
        "            b = c\n",
        "        return b\n",
        " \n",
        "# Driver Program\n",
        " \n",
        "print(fibonacci(9))\n",
        " "
      ],
      "execution_count": null,
      "outputs": []
    },
    {
      "cell_type": "markdown",
      "metadata": {
        "id": "nQAxt9frpv1m",
        "colab_type": "text"
      },
      "source": [
        "**Factorial of a given number**"
      ]
    },
    {
      "cell_type": "code",
      "metadata": {
        "id": "1Up6VSrvuPQa",
        "colab_type": "code",
        "colab": {}
      },
      "source": [
        "# factorial of given number \n",
        "def factorial(n): \n",
        "      \n",
        "    # single line to find factorial \n",
        "    return 1 if (n==1 or n==0) else n * factorial(n - 1);  \n",
        "  \n",
        "# Driver Code \n",
        "num = 5; \n",
        "print(\"Factorial of\",num,\"is\", \n",
        "factorial(num)) "
      ],
      "execution_count": null,
      "outputs": []
    },
    {
      "cell_type": "markdown",
      "metadata": {
        "id": "NBngCnr9yZ3E",
        "colab_type": "text"
      },
      "source": [
        "**Palindrome**"
      ]
    },
    {
      "cell_type": "code",
      "metadata": {
        "id": "TL8NGs80yc8E",
        "colab_type": "code",
        "colab": {}
      },
      "source": [
        "def isPalindrome(s):\n",
        "  return s == s[::-1]\n",
        "\n",
        "s=\"malayalam\"\n",
        "print(isPalindrome(s))"
      ],
      "execution_count": null,
      "outputs": []
    },
    {
      "cell_type": "markdown",
      "metadata": {
        "id": "SzRV5NRi0_PA",
        "colab_type": "text"
      },
      "source": [
        "**String Matching**"
      ]
    },
    {
      "cell_type": "code",
      "metadata": {
        "id": "5oE0ec6F1Dfm",
        "colab_type": "code",
        "colab": {}
      },
      "source": [
        "\n",
        "# Python code to count number of unique matching \n",
        "# characters in a pair of strings \n",
        "  \n",
        "# count function count the common unique \n",
        "# characters present in both strings . \n",
        "def count(str1 ,str2) : \n",
        "    # set of characters of string1 \n",
        "    set_string1 = set(str1) \n",
        "  \n",
        "    # set of characters of string2 \n",
        "    set_string2 = set(str2) \n",
        "  \n",
        "    # using (&) intersection mathematical operation on sets \n",
        "    # the unique characters present in both the strings \n",
        "    # are stored in matched_characters set variable \n",
        "    matched_characters = set_string1 & set_string2 \n",
        "  \n",
        "    # printing the length of matched_characters set \n",
        "    # gives the no. of matched characters \n",
        "    print(\"No. of matching characters are : \" + str(len(matched_characters)) ) \n",
        "  \n",
        "  \n",
        "# Driver code \n",
        "if __name__ == \"__main__\" : \n",
        "  \n",
        "    str1 = 'aabcddekll12@'  # first string \n",
        "    str2 = 'bb2211@55k'     # second string \n",
        "  \n",
        "    # call count function  \n",
        "    count( str1 , str2 ) "
      ],
      "execution_count": null,
      "outputs": []
    },
    {
      "cell_type": "code",
      "metadata": {
        "id": "K32N4RTU1HHX",
        "colab_type": "code",
        "colab": {}
      },
      "source": [
        "# Count the Number of matching characters in  \n",
        "# a pair of string \n",
        "import re \n",
        "ip1 = \"geeks\"\n",
        "ip2 = \"geeksonly\"\n",
        "  \n",
        "c = 0\n",
        "for i in ip1: \n",
        "    if re.search(i,ip2): \n",
        "        c=c+1\n",
        "print(\"No. of matching characters are \", c) "
      ],
      "execution_count": null,
      "outputs": []
    }
  ]
}